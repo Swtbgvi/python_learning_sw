{
 "cells": [
  {
   "cell_type": "code",
   "execution_count": 1,
   "metadata": {
    "collapsed": true
   },
   "outputs": [
    {
     "name": "stdout",
     "output_type": "stream",
     "text": [
      "                   A         B         C         D    F    E\n2013-01-01  1.003632 -0.463016 -0.467531  1.635228  NaN  1.0\n2013-01-02  1.208251 -1.030158 -0.501952  0.324330  1.0  1.0\n2013-01-03 -1.458502  0.465265  0.910247  0.040872  2.0  NaN\n2013-01-04  0.359978 -0.765210 -0.544544 -0.453208  3.0  NaN\n                   A         B         C        D    F    E\n2013-01-02  1.208251 -1.030158 -0.501952  0.32433  1.0  1.0\n                   A         B         C         D    F    E\n2013-01-01  1.003632 -0.463016 -0.467531  1.635228  5.0  1.0\n2013-01-02  1.208251 -1.030158 -0.501952  0.324330  1.0  1.0\n2013-01-03 -1.458502  0.465265  0.910247  0.040872  2.0  5.0\n2013-01-04  0.359978 -0.765210 -0.544544 -0.453208  3.0  5.0\n                A      B      C      D      F      E\n2013-01-01  False  False  False  False   True  False\n2013-01-02  False  False  False  False  False  False\n2013-01-03  False  False  False  False  False   True\n2013-01-04  False  False  False  False  False   True\n"
     ]
    }
   ],
   "source": [
    "# pandas is sql table form datastructure\n",
    "import pandas as pd\n",
    "# numpy is a multidimentional array\n",
    "import numpy as np\n",
    "\n",
    "# 1. Object creation\n",
    "# creating series\n",
    "series = pd.Series([1,3,5,np.nan,6,8])\n",
    "#print(series)\n",
    "\n",
    "# creating datetime index using dataframe\n",
    "dates = pd.date_range('20130101',periods=6)\n",
    "#print(dates)\n",
    "\n",
    "#print(np.random.randn(6,4))\n",
    "# creating data frame\n",
    "df = pd.DataFrame(np.random.randn(6,4), index=dates, columns=list('ABCD'))\n",
    "s1 = pd.Series([1,2,3,4,5,6], index=pd.date_range('20130102', periods=6))\n",
    "df['F'] = s1\n",
    "df1 = df.reindex(index=dates[0:4], columns=list(df.columns) + ['E'])\n",
    "\n",
    "df1.loc[dates[0]:dates[1],'E'] = 1\n",
    "\n",
    "print(df1)\n",
    "# To drop any rows that have missing data.\n",
    "print(df1.dropna(how='any'))\n",
    "# Filling missing data.\n",
    "print(df1.fillna(value=5))\n",
    "#To get the boolean mask where values are nan.\n",
    "print(pd.isna(df1))"
   ]
  },
  {
   "cell_type": "code",
   "execution_count": null,
   "metadata": {},
   "outputs": [],
   "source": []
  }
 ],
 "metadata": {
  "kernelspec": {
   "display_name": "Python 2",
   "language": "python",
   "name": "python2"
  },
  "language_info": {
   "codemirror_mode": {
    "name": "ipython",
    "version": 2
   },
   "file_extension": ".py",
   "mimetype": "text/x-python",
   "name": "python",
   "nbconvert_exporter": "python",
   "pygments_lexer": "ipython2",
   "version": "2.7.6"
  }
 },
 "nbformat": 4,
 "nbformat_minor": 0
}
