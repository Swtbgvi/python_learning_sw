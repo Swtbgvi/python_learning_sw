{
 "cells": [
  {
   "cell_type": "code",
   "execution_count": 1,
   "metadata": {},
   "outputs": [
    {
     "name": "stdout",
     "output_type": "stream",
     "text": [
      "                   A         B         C         D    F    E\n",
      "2013-01-01  0.042637 -0.074306 -0.955451 -0.228689  NaN  1.0\n",
      "2013-01-02  2.062483  0.348127  0.293862 -0.275462  1.0  1.0\n",
      "2013-01-03 -0.108464 -1.576991  0.679085 -0.134301  2.0  NaN\n",
      "2013-01-04  1.114540  0.047171 -0.511189 -0.095376  3.0  NaN\n",
      "                   A         B         C         D    F    E\n",
      "2013-01-02  2.062483  0.348127  0.293862 -0.275462  1.0  1.0\n",
      "                   A         B         C         D    F    E\n",
      "2013-01-01  0.042637 -0.074306 -0.955451 -0.228689  5.0  1.0\n",
      "2013-01-02  2.062483  0.348127  0.293862 -0.275462  1.0  1.0\n",
      "2013-01-03 -0.108464 -1.576991  0.679085 -0.134301  2.0  5.0\n",
      "2013-01-04  1.114540  0.047171 -0.511189 -0.095376  3.0  5.0\n",
      "                A      B      C      D      F      E\n",
      "2013-01-01  False  False  False  False   True  False\n",
      "2013-01-02  False  False  False  False  False  False\n",
      "2013-01-03  False  False  False  False  False   True\n",
      "2013-01-04  False  False  False  False  False   True\n"
     ]
    }
   ],
   "source": [
    "# pandas is sql table form datastructure\n",
    "import pandas as pd\n",
    "# numpy is a multidimentional array\n",
    "import numpy as np\n",
    "\n",
    "# 1. Object creation\n",
    "# creating series\n",
    "series = pd.Series([1,3,5,np.nan,6,8])\n",
    "#print(series)\n",
    "\n",
    "# creating datetime index using dataframe\n",
    "dates = pd.date_range('20130101',periods=6)\n",
    "#print(dates)\n",
    "\n",
    "#print(np.random.randn(6,4))\n",
    "# creating data frame\n",
    "df = pd.DataFrame(np.random.randn(6,4), index=dates, columns=list('ABCD'))\n",
    "s1 = pd.Series([1,2,3,4,5,6], index=pd.date_range('20130102', periods=6))\n",
    "df['F'] = s1\n",
    "df1 = df.reindex(index=dates[0:4], columns=list(df.columns) + ['E'])\n",
    "\n",
    "df1.loc[dates[0]:dates[1],'E'] = 1\n",
    "\n",
    "print(df1)\n",
    "# To drop any rows that have missing data.\n",
    "print(df1.dropna(how='any'))\n",
    "# Filling missing data.\n",
    "print(df1.fillna(value=5))\n",
    "#To get the boolean mask where values are nan.\n",
    "print(pd.isna(df1))"
   ]
  },
  {
   "cell_type": "code",
   "execution_count": null,
   "metadata": {},
   "outputs": [],
   "source": []
  }
 ],
 "metadata": {
  "kernelspec": {
   "display_name": "Python 3",
   "language": "python",
   "name": "python3"
  },
  "language_info": {
   "codemirror_mode": {
    "name": "ipython",
    "version": 3
   },
   "file_extension": ".py",
   "mimetype": "text/x-python",
   "name": "python",
   "nbconvert_exporter": "python",
   "pygments_lexer": "ipython3",
   "version": "3.6.4"
  }
 },
 "nbformat": 4,
 "nbformat_minor": 1
}
