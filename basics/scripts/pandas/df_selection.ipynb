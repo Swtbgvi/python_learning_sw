{
 "cells": [
  {
   "cell_type": "code",
   "execution_count": 1,
   "metadata": {
    "collapsed": true
   },
   "outputs": [
    {
     "name": "stdout",
     "output_type": "stream",
     "text": [
      "2013-01-01   -1.071057\n2013-01-02   -1.218242\n2013-01-03    1.215449\n2013-01-04   -1.650671\n2013-01-05    0.284022\n2013-01-06    0.467566\nFreq: D, Name: A, dtype: float64\n                   A         B         C         D\n2013-01-01 -1.071057  0.592776  0.475516 -0.323638\n2013-01-02 -1.218242 -1.324606 -0.597078 -1.651146\n2013-01-03  1.215449 -2.066950  1.435922  1.096423\nA   -1.071057\nB    0.592776\nC    0.475516\nD   -0.323638\nName: 2013-01-01 00:00:00, dtype: float64\n                   A         B\n2013-01-01 -1.071057  0.592776\n2013-01-02 -1.218242 -1.324606\n2013-01-03  1.215449 -2.066950\n2013-01-04 -1.650671 -0.624572\n2013-01-05  0.284022  0.792324\n2013-01-06  0.467566  1.453806\n                   A         B\n2013-01-02 -1.218242 -1.324606\n2013-01-03  1.215449 -2.066950\n2013-01-04 -1.650671 -0.624572\nA   -1.218242\nB   -1.324606\nName: 2013-01-02 00:00:00, dtype: float64\n-1.0710568934801796\n-1.0710568934801796\nA   -1.650671\nB   -0.624572\nC    0.831716\nD   -0.637117\nName: 2013-01-04 00:00:00, dtype: float64\n                   A         B\n2013-01-04 -1.650671 -0.624572\n2013-01-05  0.284022  0.792324\n                   A         C\n2013-01-02 -1.218242 -0.597078\n2013-01-03  1.215449  1.435922\n2013-01-05  0.284022 -1.010394\n                   A         B         C         D\n2013-01-02 -1.218242 -1.324606 -0.597078 -1.651146\n2013-01-03  1.215449 -2.066950  1.435922  1.096423\n                   B         C\n2013-01-01  0.592776  0.475516\n2013-01-02 -1.324606 -0.597078\n2013-01-03 -2.066950  1.435922\n2013-01-04 -0.624572  0.831716\n2013-01-05  0.792324 -1.010394\n2013-01-06  1.453806 -0.022193\n-1.324605978413929\n-1.324605978413929\n                   A         B         C         D\n2013-01-03  1.215449 -2.066950  1.435922  1.096423\n2013-01-05  0.284022  0.792324 -1.010394  1.664026\n2013-01-06  0.467566  1.453806 -0.022193  1.086371\n"
     ]
    },
    {
     "name": "stdout",
     "output_type": "stream",
     "text": [
      "                   A         B         C         D\n2013-01-01       NaN  0.592776  0.475516       NaN\n2013-01-02       NaN       NaN       NaN       NaN\n2013-01-03  1.215449       NaN  1.435922  1.096423\n2013-01-04       NaN       NaN  0.831716       NaN\n2013-01-05  0.284022  0.792324       NaN  1.664026\n2013-01-06  0.467566  1.453806       NaN  1.086371\n                   A         B         C         D\n2013-01-01 -1.071057  0.592776  0.475516 -0.323638\n2013-01-02 -1.218242 -1.324606 -0.597078 -1.651146\n2013-01-03  1.215449 -2.066950  1.435922  1.096423\n2013-01-04 -1.650671 -0.624572  0.831716 -0.637117\n2013-01-05  0.284022  0.792324 -1.010394  1.664026\n2013-01-06  0.467566  1.453806 -0.022193  1.086371\n                   A         B         C         D      E\n2013-01-01 -1.071057  0.592776  0.475516 -0.323638    one\n2013-01-02 -1.218242 -1.324606 -0.597078 -1.651146    one\n2013-01-03  1.215449 -2.066950  1.435922  1.096423    two\n2013-01-04 -1.650671 -0.624572  0.831716 -0.637117  three\n2013-01-05  0.284022  0.792324 -1.010394  1.664026   four\n2013-01-06  0.467566  1.453806 -0.022193  1.086371  three\n                   A         B         C         D     E\n2013-01-03  1.215449 -2.066950  1.435922  1.096423   two\n2013-01-05  0.284022  0.792324 -1.010394  1.664026  four\n2013-01-02    1\n2013-01-03    2\n2013-01-04    3\n2013-01-05    4\n2013-01-06    5\n2013-01-07    6\nFreq: D, dtype: int64\n                   A         B         C         D    F\n2013-01-01 -1.071057  0.592776  0.475516 -0.323638  NaN\n2013-01-02 -1.218242 -1.324606 -0.597078 -1.651146  1.0\n2013-01-03  1.215449 -2.066950  1.435922  1.096423  2.0\n2013-01-04 -1.650671 -0.624572  0.831716 -0.637117  3.0\n2013-01-05  0.284022  0.792324 -1.010394  1.664026  4.0\n2013-01-06  0.467566  1.453806 -0.022193  1.086371  5.0\n                   A         B         C  D    F\n2013-01-01  0.000000  0.000000  0.475516  5  NaN\n2013-01-02 -1.218242 -1.324606 -0.597078  5  1.0\n2013-01-03  1.215449 -2.066950  1.435922  5  2.0\n2013-01-04 -1.650671 -0.624572  0.831716  5  3.0\n2013-01-05  0.284022  0.792324 -1.010394  5  4.0\n2013-01-06  0.467566  1.453806 -0.022193  5  5.0\n                   A         B         C  D    F\n2013-01-01  0.000000  0.000000 -0.475516 -5  NaN\n2013-01-02 -1.218242 -1.324606 -0.597078 -5 -1.0\n2013-01-03 -1.215449 -2.066950 -1.435922 -5 -2.0\n2013-01-04 -1.650671 -0.624572 -0.831716 -5 -3.0\n2013-01-05 -0.284022 -0.792324 -1.010394 -5 -4.0\n2013-01-06 -0.467566 -1.453806 -0.022193 -5 -5.0\n"
     ]
    }
   ],
   "source": [
    "# pandas is sql table form datastructure\n",
    "import pandas as pd\n",
    "# numpy is a multidimentional array\n",
    "import numpy as np\n",
    "\n",
    "# 1. Object creation\n",
    "# creating series\n",
    "series = pd.Series([1,3,5,np.nan,6,8])\n",
    "#print(series)\n",
    "\n",
    "# creating datetime index using dataframe\n",
    "dates = pd.date_range('20130101',periods=6)\n",
    "#print(dates)\n",
    "\n",
    "#print(np.random.randn(6,4))\n",
    "# creating data frame\n",
    "df = pd.DataFrame(np.random.randn(6,4), index=dates, columns=list('ABCD'))\n",
    "\n",
    "#3. Selection\n",
    "# selecing single column by giving column name\n",
    "print(df[\"A\"])\n",
    "\n",
    "# data[row_start_index:row_end_index]\n",
    "print(df[0:3])\n",
    "\n",
    "# selection by label\n",
    "#\n",
    "print(df.loc[dates[0]])\n",
    "\n",
    "# Selecting on a multi-axis by label:\n",
    "print(df.loc[:,[\"A\",\"B\"]])\n",
    "\n",
    "# Showing label slicing, both endpoints are included:\n",
    "print(df.loc['20130102':'20130104',['A','B']])\n",
    "\n",
    "print(df.loc['20130102',['A','B']])\n",
    "\n",
    "# getting scalar values like matrix [a11]\n",
    "print(df.loc[dates[0],'A'])\n",
    "\n",
    "print(df.at[dates[0],'A'])\n",
    "\n",
    "# Selection by position\n",
    "# passing the integer values\n",
    "print(df.iloc[3])\n",
    "\n",
    "print(df.iloc[3:5,0:2])\n",
    "\n",
    "print(df.iloc[[1,2,4],[0,2]])\n",
    "\n",
    "print(df.iloc[1:3,:])\n",
    "\n",
    "print(df.iloc[:,1:3])\n",
    "\n",
    "# getting scalar values like matrix [a11]\n",
    "print(df.iloc[1,1])\n",
    "print(df.iat[1,1])\n",
    "\n",
    "# Filtering\n",
    "# Boolean Indexing\n",
    "\n",
    "print(df[df.A > 0])\n",
    "print(df[df>0])\n",
    "\n",
    "# create a\n",
    "df2 = df.copy()\n",
    "# check difference\n",
    "#df2 = df\n",
    "\n",
    "df2['E'] = ['one', 'one','two','three','four','three']\n",
    "print(df)\n",
    "print(df2)\n",
    "\n",
    "# isin\n",
    "\n",
    "print(df2[df2['E'].isin(['two','four'])])\n",
    "\n",
    "# Setting values\n",
    "# setting a new column automatically\n",
    "s1 = pd.Series([1,2,3,4,5,6], index=pd.date_range('20130102', periods=6))\n",
    "print(s1)\n",
    "df['F'] = s1\n",
    "print(df)\n",
    "\n",
    "# Setting values by label:\n",
    "df.at[dates[0],'A'] = 0\n",
    "# Setting values by position\n",
    "df.iat[0,1] = 0\n",
    "# Setting by assigning with a NumPy array\n",
    "df.loc[:,'D'] = np.array([5] * len(df))\n",
    "print(df)\n",
    "\n",
    "# where operation with setting.\n",
    "df2 = df.copy()\n",
    "df2[df2 > 0] = -df2\n",
    "print(df2)"
   ]
  },
  {
   "cell_type": "code",
   "execution_count": null,
   "metadata": {},
   "outputs": [],
   "source": []
  }
 ],
 "metadata": {
  "kernelspec": {
   "display_name": "Python 2",
   "language": "python",
   "name": "python2"
  },
  "language_info": {
   "codemirror_mode": {
    "name": "ipython",
    "version": 2
   },
   "file_extension": ".py",
   "mimetype": "text/x-python",
   "name": "python",
   "nbconvert_exporter": "python",
   "pygments_lexer": "ipython2",
   "version": "2.7.6"
  }
 },
 "nbformat": 4,
 "nbformat_minor": 0
}
